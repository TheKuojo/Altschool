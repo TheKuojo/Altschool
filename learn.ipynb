{
 "cells": [
  {
   "cell_type": "code",
   "execution_count": 6,
   "metadata": {},
   "outputs": [
    {
     "name": "stdout",
     "output_type": "stream",
     "text": [
      "('house', 'feaders')\n"
     ]
    }
   ],
   "source": [
    "make = 'house', 'feaders'\n",
    "print(make)"
   ]
  },
  {
   "cell_type": "code",
   "execution_count": 16,
   "metadata": {},
   "outputs": [
    {
     "name": "stdout",
     "output_type": "stream",
     "text": [
      "s\n",
      "S\n",
      "o\n",
      "m\n",
      "e\n",
      " \n",
      "r\n",
      "a\n",
      "n\n",
      "d\n",
      "o\n",
      "m\n",
      " \n",
      "S\n",
      "t\n",
      "r\n",
      "i\n",
      "n\n",
      "g\n",
      "s\n"
     ]
    }
   ],
   "source": [
    "my_string = \"Some random Strings\"\n",
    "print (my_string[-1])\n",
    "len(my_string)\n",
    "for x in my_string:\n",
    "    print(x)"
   ]
  },
  {
   "cell_type": "code",
   "execution_count": 19,
   "metadata": {},
   "outputs": [
    {
     "data": {
      "text/plain": [
       "int"
      ]
     },
     "execution_count": 19,
     "metadata": {},
     "output_type": "execute_result"
    }
   ],
   "source": [
    "my_int = 12345\n",
    "type(my_int)"
   ]
  },
  {
   "cell_type": "code",
   "execution_count": 54,
   "metadata": {},
   "outputs": [
    {
     "name": "stdout",
     "output_type": "stream",
     "text": [
      "False\n"
     ]
    },
    {
     "data": {
      "text/plain": [
       "1435386941296"
      ]
     },
     "execution_count": 54,
     "metadata": {},
     "output_type": "execute_result"
    }
   ],
   "source": [
    "first=  \"boy\"\n",
    "second = \"gril\"\n",
    "thrid = \"boy\"\n",
    "s= first is not thrid\n",
    "print(s)\n",
    "id(second)"
   ]
  },
  {
   "cell_type": "code",
   "execution_count": 62,
   "metadata": {},
   "outputs": [
    {
     "data": {
      "text/plain": [
       "'0b1110'"
      ]
     },
     "execution_count": 62,
     "metadata": {},
     "output_type": "execute_result"
    }
   ],
   "source": [
    "a = 10\n",
    "b = 4 \n",
    "bin(a)\n",
    "bin_string = bin(a)\n",
    "bin_string[2:]\n",
    "\n",
    "bin(a ^ b)\n"
   ]
  },
  {
   "cell_type": "code",
   "execution_count": 58,
   "metadata": {},
   "outputs": [
    {
     "data": {
      "text/plain": [
       "'100'"
      ]
     },
     "execution_count": 58,
     "metadata": {},
     "output_type": "execute_result"
    }
   ],
   "source": [
    "bin(4)\n",
    "bin_string = bin(4)\n",
    "bin_string [2:]"
   ]
  },
  {
   "cell_type": "code",
   "execution_count": 76,
   "metadata": {},
   "outputs": [
    {
     "name": "stdout",
     "output_type": "stream",
     "text": [
      "0b1010\n",
      "0b100\n"
     ]
    },
    {
     "data": {
      "text/plain": [
       "'1010'"
      ]
     },
     "execution_count": 76,
     "metadata": {},
     "output_type": "execute_result"
    }
   ],
   "source": [
    "bin_a = bin(a)\n",
    "bin_b = bin(b)\n",
    "print(bin_a)\n",
    "print(bin_b)\n",
    "bin (a ^ b)\n",
    "\n",
    "bin(-a)\n",
    "bin_string = bin(-a)\n",
    "bin_string[3:]"
   ]
  },
  {
   "cell_type": "code",
   "execution_count": 85,
   "metadata": {},
   "outputs": [
    {
     "name": "stdout",
     "output_type": "stream",
     "text": [
      "-11\n",
      "14\n"
     ]
    },
    {
     "data": {
      "text/plain": [
       "'0b11110101'"
      ]
     },
     "execution_count": 85,
     "metadata": {},
     "output_type": "execute_result"
    }
   ],
   "source": [
    "a = 10\n",
    "c = +10\n",
    "print (~a)\n",
    "print (a | b)\n",
    "bin (~a &255)"
   ]
  },
  {
   "cell_type": "code",
   "execution_count": 95,
   "metadata": {},
   "outputs": [
    {
     "name": "stdout",
     "output_type": "stream",
     "text": [
      "0b1010\n",
      "0b101\n"
     ]
    }
   ],
   "source": [
    "a = 10\n",
    "b = 1\n",
    "print (bin(a))\n",
    "\n",
    "print (bin(a >> b))"
   ]
  },
  {
   "cell_type": "code",
   "execution_count": 98,
   "metadata": {},
   "outputs": [
    {
     "data": {
      "text/plain": [
       "True"
      ]
     },
     "execution_count": 98,
     "metadata": {},
     "output_type": "execute_result"
    }
   ],
   "source": [
    "2+10 * 5\n",
    "2 + 10 and 5 > 10"
   ]
  },
  {
   "attachments": {},
   "cell_type": "markdown",
   "metadata": {},
   "source": [
    "LIST"
   ]
  },
  {
   "cell_type": "code",
   "execution_count": 229,
   "metadata": {},
   "outputs": [
    {
     "data": {
      "text/plain": [
       "'boy'"
      ]
     },
     "execution_count": 229,
     "metadata": {},
     "output_type": "execute_result"
    }
   ],
   "source": [
    "my_list = [1, 2, 3, 4]\n",
    "my_list2 = [1, \"John\", 4.5, [6, \"boy\"]]\n",
    "type(my_list2)\n",
    "my_list2[1]\n",
    "my_list2[3][1]\n"
   ]
  },
  {
   "cell_type": "code",
   "execution_count": 228,
   "metadata": {},
   "outputs": [
    {
     "data": {
      "text/plain": [
       "[1, 2, 3, 4, 6, 6]"
      ]
     },
     "execution_count": 228,
     "metadata": {},
     "output_type": "execute_result"
    }
   ],
   "source": [
    "my_list.append(6)\n",
    "my_list"
   ]
  },
  {
   "cell_type": "code",
   "execution_count": 56,
   "metadata": {},
   "outputs": [
    {
     "data": {
      "text/plain": [
       "[1, 2, 3, 4, 5, 6, 7, 8, 9]"
      ]
     },
     "execution_count": 56,
     "metadata": {},
     "output_type": "execute_result"
    }
   ],
   "source": [
    "my_list3 = [1, 2, 3, 4, 5, 6, 7, 8, 9, 'a', 'b', 'c', 'd', 'e', 'f']\n",
    "my_list3[-6:]\n",
    "my_list3.append('g')\n",
    "my_list3\n",
    "my_list3.extend(['h','i','j'])\n",
    "my_list3[-3:]\n",
    "sub_my_list3 = my_list3[-3:] \n",
    "sub_my_list3 *3\n",
    "my_list3.insert(9, 0)\n",
    "del my_list3[9]\n",
    "del my_list3[-4:]\n",
    "my_list3.remove(9)\n",
    "my_list3.pop(7)\n",
    "my_list3[-1] = \"j\"\n",
    "my_list3.clear\n",
    "my_list3 = [1, 2, 3, 4, 5, 6, 7, 8, 9, 'a', 'b', 'c', 'd', 'e', 'f']\n",
    "my_list_comp = [x for x in my_list3 if type(x) is int]\n",
    "my_list_comp\n",
    "#9 in my_list3\n",
    "#9 not in my_list_comp"
   ]
  },
  {
   "cell_type": "code",
   "execution_count": 34,
   "metadata": {},
   "outputs": [
    {
     "data": {
      "text/plain": [
       "[1, 3, 5, 2, 4, 6]"
      ]
     },
     "execution_count": 34,
     "metadata": {},
     "output_type": "execute_result"
    }
   ],
   "source": [
    "odd_list = [1,3,5]\n",
    "even_list = [2,4,6]\n",
    "odd_list + even_list"
   ]
  },
  {
   "attachments": {},
   "cell_type": "markdown",
   "metadata": {},
   "source": [
    "TUPLES"
   ]
  },
  {
   "cell_type": "code",
   "execution_count": 37,
   "metadata": {},
   "outputs": [],
   "source": [
    "my_tuple = (1,2,3,4,5)\n",
    "my_tuple2 = (2,\"John\", 4.5, [6, 'BOY'],  ('SOME', 'tuple'))\n",
    "my_tuple2\n",
    "type(my_tuple2)\n",
    "my_tuple3 = 1, 2, \"big\", \"bold\"\n",
    "d , e, f, j = my_tuple3\n",
    "some_tuple = \"some_element\",\n",
    "type(some_tuple)\n",
    "my_tuple2[1:4]\n",
    "my_tuple2[3][1] = \"girl\"\n",
    "my_sub_tuple = my_tuple2[-1]\n",
    "my_sub_tuple*3\n",
    "del my_sub_tuple\n"
   ]
  },
  {
   "cell_type": "code",
   "execution_count": 39,
   "metadata": {},
   "outputs": [
    {
     "data": {
      "text/plain": [
       "1"
      ]
     },
     "execution_count": 39,
     "metadata": {},
     "output_type": "execute_result"
    }
   ],
   "source": [
    "my_new_tuple = ('my', 'y', 'l', 'e', 't', 't', 'e', 'r')\n",
    "my_new_tuple.count('t')\n",
    "my_new_tuple.index('y')"
   ]
  },
  {
   "cell_type": "code",
   "execution_count": 41,
   "metadata": {},
   "outputs": [
    {
     "data": {
      "text/plain": [
       "tuple"
      ]
     },
     "execution_count": 41,
     "metadata": {},
     "output_type": "execute_result"
    }
   ],
   "source": [
    "my_list = [1,2,3]\n",
    "my_tuple = tuple(my_list)\n",
    "type(my_tuple)"
   ]
  },
  {
   "attachments": {},
   "cell_type": "markdown",
   "metadata": {},
   "source": [
    "Set"
   ]
  },
  {
   "cell_type": "code",
   "execution_count": 44,
   "metadata": {},
   "outputs": [
    {
     "data": {
      "text/plain": [
       "set"
      ]
     },
     "execution_count": 44,
     "metadata": {},
     "output_type": "execute_result"
    }
   ],
   "source": [
    "my_set = {1,2,3,4}\n",
    "type(my_set)\n",
    "my_empty_set = set()\n",
    "type(my_empty_set)"
   ]
  },
  {
   "cell_type": "code",
   "execution_count": 54,
   "metadata": {},
   "outputs": [
    {
     "data": {
      "text/plain": [
       "{1, 2, 3, 4, 5, 6, 7}"
      ]
     },
     "execution_count": 54,
     "metadata": {},
     "output_type": "execute_result"
    }
   ],
   "source": [
    "my_set2 = (1,2, 'johanny',[4.5, 'sun'])\n",
    "my_set3 = set(['son', 4.5])\n",
    "my_set4 = {4,5,6,7}\n",
    "my_set|my_set4\n",
    "my_set.union(my_set4)"
   ]
  },
  {
   "cell_type": "code",
   "execution_count": 60,
   "metadata": {},
   "outputs": [
    {
     "name": "stdout",
     "output_type": "stream",
     "text": [
      "{4}\n",
      "{1, 2, 3}\n",
      "{1, 2, 3, 5, 6, 7}\n"
     ]
    },
    {
     "data": {
      "text/plain": [
       "{1, 2, 3, 5, 6, 7}"
      ]
     },
     "execution_count": 60,
     "metadata": {},
     "output_type": "execute_result"
    }
   ],
   "source": [
    "print(my_set.intersection(my_set4))\n",
    "my_set&my_set4\n",
    "\n",
    "print(my_set-my_set4)\n",
    "my_set.difference(my_set4)\n",
    "print(my_set^my_set4)\n",
    "my_set.symmetric_difference(my_set4)"
   ]
  },
  {
   "attachments": {},
   "cell_type": "markdown",
   "metadata": {},
   "source": [
    "Dictionary"
   ]
  },
  {
   "cell_type": "code",
   "execution_count": 88,
   "metadata": {},
   "outputs": [
    {
     "data": {
      "text/plain": [
       "<function dict.clear>"
      ]
     },
     "execution_count": 88,
     "metadata": {},
     "output_type": "execute_result"
    }
   ],
   "source": [
    "my_dict = {\n",
    "    \"boy\": \"games\",\n",
    "    \"girl\":\"Jenifer\"\n",
    "}\n",
    "my_dict\n",
    "my_dict2 = {\n",
    "    \"city\": \"Los Angeles\",\n",
    "    \"country\":\"United State\"\n",
    "}\n",
    "my_dict2['city']\n",
    "my_dict['boy']\n",
    "my_dict2.get('country')\n",
    "#my_dict2['continent']\n",
    "my_dict2.get(\"continent\", \"Africa\")\n",
    "my_dict2['continent'] = 'Nort America'\n",
    "my_dict2[\"city\"] = \"New York\"\n",
    "my_dict.popitem()\n",
    "('girl','jenifer')\n",
    "my_dict2.pop(\"country\")\n",
    "my_dict.clear\n"
   ]
  },
  {
   "cell_type": "code",
   "execution_count": 96,
   "metadata": {},
   "outputs": [
    {
     "data": {
      "text/plain": [
       "{'numbers': [1, 2, 3, 4]}"
      ]
     },
     "execution_count": 96,
     "metadata": {},
     "output_type": "execute_result"
    }
   ],
   "source": [
    "my_dict3 = {\n",
    "    \"numbers\" : [1,2,3,4],\n",
    "    \"strings\": \"This is a string\",\n",
    "    \"float\": 4.5\n",
    "}\n",
    "my_list_dic = {k:v for (k,v) in my_dict3.items() if type(v) is list}\n",
    "my_list_dic"
   ]
  },
  {
   "attachments": {},
   "cell_type": "markdown",
   "metadata": {},
   "source": [
    "Flow control:if else statement"
   ]
  },
  {
   "cell_type": "code",
   "execution_count": 101,
   "metadata": {},
   "outputs": [
    {
     "name": "stdout",
     "output_type": "stream",
     "text": [
      "b is grater than a\n"
     ]
    }
   ],
   "source": [
    "a = 5\n",
    "b = 10\n",
    "if a > b:\n",
    "    print(\"a is grater than b\")\n",
    "else:\n",
    "    print(\"b is grater than a\")"
   ]
  },
  {
   "cell_type": "code",
   "execution_count": 103,
   "metadata": {},
   "outputs": [
    {
     "name": "stdout",
     "output_type": "stream",
     "text": [
      "a is greater than 20\n"
     ]
    }
   ],
   "source": [
    "a = 30\n",
    "if a > 20:\n",
    "    print(\"a is greater than 20\")\n",
    "elif a < 5:\n",
    "    print(\"a is less than 5\")\n",
    "else:\n",
    "    print(f\"{a} is neither greather than 20 nor less than 5\")\n",
    "    "
   ]
  },
  {
   "attachments": {},
   "cell_type": "markdown",
   "metadata": {},
   "source": [
    "Flow control: For loop"
   ]
  },
  {
   "cell_type": "code",
   "execution_count": 107,
   "metadata": {},
   "outputs": [
    {
     "name": "stdout",
     "output_type": "stream",
     "text": [
      "Fusion\n",
      "Festus\n"
     ]
    }
   ],
   "source": [
    "names = [\"James\", \"John\", \"Fusion\", \"Festus\", \"Tina\"]\n",
    "for name in names:\n",
    "    if name.startswith(\"F\"):\n",
    "        print (name)"
   ]
  },
  {
   "cell_type": "code",
   "execution_count": 124,
   "metadata": {},
   "outputs": [
    {
     "name": "stdout",
     "output_type": "stream",
     "text": [
      "1 This are odd no\n",
      "3 This are odd no\n",
      "5 This are odd no\n",
      "7 This are odd no\n",
      "9 This are odd no\n"
     ]
    }
   ],
   "source": [
    "numbers = [1,2,3,4,5,6,7,8,9,10]\n",
    "for x in numbers:\n",
    "    if x %2 != 0:\n",
    "        print(f\"{x} This are odd no\");\n"
   ]
  },
  {
   "cell_type": "code",
   "execution_count": 130,
   "metadata": {},
   "outputs": [
    {
     "name": "stdout",
     "output_type": "stream",
     "text": [
      "1\n",
      "3\n",
      "5\n",
      "7\n",
      "9\n"
     ]
    },
    {
     "data": {
      "text/plain": [
       "[1, 3, 5, 7, 9]"
      ]
     },
     "execution_count": 130,
     "metadata": {},
     "output_type": "execute_result"
    }
   ],
   "source": [
    "for i in range(11):\n",
    "    if i %2 !=0:\n",
    "        print(i)\n",
    "        \n",
    "list(range (1, 11, 2))"
   ]
  },
  {
   "attachments": {},
   "cell_type": "markdown",
   "metadata": {},
   "source": [
    "Flow Control: Break,Continue and Pass "
   ]
  },
  {
   "cell_type": "code",
   "execution_count": 176,
   "metadata": {},
   "outputs": [
    {
     "ename": "ValueError",
     "evalue": "invalid literal for int() with base 10: ''",
     "output_type": "error",
     "traceback": [
      "\u001b[1;31m---------------------------------------------------------------------------\u001b[0m",
      "\u001b[1;31mValueError\u001b[0m                                Traceback (most recent call last)",
      "Cell \u001b[1;32mIn[176], line 2\u001b[0m\n\u001b[0;32m      1\u001b[0m num \u001b[39m=\u001b[39m \u001b[39minput\u001b[39m(\u001b[39m\"\u001b[39m\u001b[39mEnter number: \u001b[39m\u001b[39m\"\u001b[39m)   \n\u001b[1;32m----> 2\u001b[0m number \u001b[39m=\u001b[39m \u001b[39mint\u001b[39;49m(num)\n\u001b[0;32m      3\u001b[0m condition \u001b[39m=\u001b[39m \u001b[39m0\u001b[39m\n\u001b[0;32m      4\u001b[0m count \u001b[39m=\u001b[39m \u001b[39m2\u001b[39m\n",
      "\u001b[1;31mValueError\u001b[0m: invalid literal for int() with base 10: ''"
     ]
    }
   ],
   "source": [
    "num = input(\"Enter number: \")   \n",
    "number = int(num)\n",
    "condition = 0\n",
    "count = 2\n",
    "iteration = 0\n",
    "while iteration <= number / 2:\n",
    "    if number % count ==0:\n",
    "        print(f\"condition met at iteration = {iteration}\")\n",
    "        condition =1\n",
    "        break\n",
    "    iteration +=1 \n",
    "if condition ==0:\n",
    "    print(f\"{number} is a prime number\")\n",
    "else:\n",
    "   print(f\"{number} is not a prime number\") \n",
    "\n"
   ]
  },
  {
   "cell_type": "code",
   "execution_count": 149,
   "metadata": {},
   "outputs": [
    {
     "name": "stdout",
     "output_type": "stream",
     "text": [
      "{'joseph', 'james', 'john', 'peter'}\n"
     ]
    }
   ],
   "source": [
    "names = (\"James\", \"Joseph\", \"john\", \"Peter\", \"james\", \"John\")\n",
    "unique = set()\n",
    "for name in names:\n",
    "    if name.islower():\n",
    "        unique.add(name)\n",
    "        continue\n",
    "    unique.add(name.lower())\n",
    "print(unique)"
   ]
  },
  {
   "cell_type": "code",
   "execution_count": 151,
   "metadata": {},
   "outputs": [
    {
     "name": "stdout",
     "output_type": "stream",
     "text": [
      "hello\n"
     ]
    }
   ],
   "source": [
    "if 2>3:\n",
    "    pass\n",
    "print('hello')"
   ]
  },
  {
   "attachments": {},
   "cell_type": "markdown",
   "metadata": {},
   "source": [
    "Functions"
   ]
  },
  {
   "cell_type": "code",
   "execution_count": 157,
   "metadata": {},
   "outputs": [
    {
     "name": "stdout",
     "output_type": "stream",
     "text": [
      "this is my 1st function\n"
     ]
    }
   ],
   "source": [
    "def my_func():\n",
    "    print(\"this is my 1st function\")\n",
    "my_func()"
   ]
  },
  {
   "cell_type": "code",
   "execution_count": 177,
   "metadata": {},
   "outputs": [
    {
     "name": "stdout",
     "output_type": "stream",
     "text": [
      "condition met at iteration = 0\n",
      "2 is not a prime number\n"
     ]
    }
   ],
   "source": [
    "def check_prime_no(num):\n",
    "    number = int(num)\n",
    "condition = 0\n",
    "count = 2\n",
    "iteration = 0\n",
    "while iteration <= number / 2:\n",
    "    if number % count ==0:\n",
    "        print(f\"condition met at iteration = {iteration}\")\n",
    "        condition =1\n",
    "        break\n",
    "    iteration +=1 \n",
    "if condition ==0:\n",
    "    print(f\"{number} is a prime number\")\n",
    "else:\n",
    "   print(f\"{number} is not a prime number\") \n",
    "   \n",
    "check_prime_no(45)\n",
    "   "
   ]
  },
  {
   "cell_type": "code",
   "execution_count": 183,
   "metadata": {},
   "outputs": [
    {
     "name": "stdout",
     "output_type": "stream",
     "text": [
      " Type of arument is:<class 'tuple'>\n",
      "45\n"
     ]
    }
   ],
   "source": [
    "def add_num(*args):\n",
    "    final_num = 0\n",
    "    print(f\" Type of arument is:{type(args)}\")\n",
    "    for num in args:\n",
    "        final_num += num\n",
    "    return final_num\n",
    "print(add_num(1,2,3,4, 5,6,7,8,9))"
   ]
  },
  {
   "cell_type": "code",
   "execution_count": 190,
   "metadata": {},
   "outputs": [
    {
     "name": "stdout",
     "output_type": "stream",
     "text": [
      " Type of argument is:<class 'dict'>\n",
      "18\n"
     ]
    }
   ],
   "source": [
    "def calc_num(num1, **nums):\n",
    "    print(f\" Type of argument is:{type(nums)}\")\n",
    "    num2 = nums.get(\"num2\")\n",
    "    num3 = nums.get(\"num3\")\n",
    "    final_num = 0\n",
    "    for k,v in nums.items():\n",
    "        final_num +=v\n",
    "    return final_num\n",
    "print(calc_num(1, num3=2, num2=7, num4=3, num5=6))"
   ]
  },
  {
   "attachments": {},
   "cell_type": "markdown",
   "metadata": {},
   "source": [
    "lambda function"
   ]
  },
  {
   "cell_type": "code",
   "execution_count": 191,
   "metadata": {},
   "outputs": [
    {
     "name": "stdout",
     "output_type": "stream",
     "text": [
      "i am a lambda function\n"
     ]
    }
   ],
   "source": [
    "my_var = lambda: print(\"i am a lambda function\")\n",
    "my_var()"
   ]
  },
  {
   "cell_type": "code",
   "execution_count": 195,
   "metadata": {},
   "outputs": [
    {
     "name": "stdout",
     "output_type": "stream",
     "text": [
      "I am lambda, a function\n"
     ]
    }
   ],
   "source": [
    "my_var3 = lambda name:print(f\"I am {name}, a function\")\n",
    "my_var3(\"lambda\")"
   ]
  },
  {
   "attachments": {},
   "cell_type": "markdown",
   "metadata": {},
   "source": [
    "OOP CLASS"
   ]
  },
  {
   "cell_type": "code",
   "execution_count": 216,
   "metadata": {},
   "outputs": [
    {
     "name": "stdout",
     "output_type": "stream",
     "text": [
      "My car is a Blue Toyota\n",
      "None\n",
      "my_car.display_info()\n"
     ]
    }
   ],
   "source": [
    "class Car:\n",
    "    wheels = 4\n",
    "    def __init__(self, model, colour):\n",
    "        self.model = model\n",
    "        self.colour = colour\n",
    "        \n",
    "    def display_info(self):\n",
    "        print(f\"My car is a {self.colour} {self.model}\")\n",
    "        \n",
    "    def change_colour(self, colour):\n",
    "        self.colour = colour\n",
    "        \n",
    "my_car = Car(model = \"Toyota\",colour = \"Blue\")\n",
    "print(my_car.display_info())\n",
    "my_car.change_colour(\"white\")\n",
    "print(\"my_car.display_info()\")"
   ]
  },
  {
   "cell_type": "code",
   "execution_count": 223,
   "metadata": {},
   "outputs": [],
   "source": [
    "my_3 = [1,2,3,4]\n",
    "my_2 = [5,6,7]\n",
    "\n",
    "my_3.append(6)\n",
    "\n",
    "\n",
    "    "
   ]
  }
 ],
 "metadata": {
  "kernelspec": {
   "display_name": "Python 3",
   "language": "python",
   "name": "python3"
  },
  "language_info": {
   "codemirror_mode": {
    "name": "ipython",
    "version": 3
   },
   "file_extension": ".py",
   "mimetype": "text/x-python",
   "name": "python",
   "nbconvert_exporter": "python",
   "pygments_lexer": "ipython3",
   "version": "3.10.11"
  },
  "orig_nbformat": 4,
  "vscode": {
   "interpreter": {
    "hash": "564621a698cc635d1862e066f065abd3a7e8c0f98ad17a924144c097f20d9a23"
   }
  }
 },
 "nbformat": 4,
 "nbformat_minor": 2
}
